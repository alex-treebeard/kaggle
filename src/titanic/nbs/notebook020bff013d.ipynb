{
 "cells": [
  {
   "cell_type": "code",
   "execution_count": null,
   "metadata": {
    "_cell_guid": "b1076dfc-b9ad-4769-8c92-a6c4dae69d19",
    "_uuid": "8f2839f25d086af736a60e9eeb907d3b93b6e0e5",
    "papermill": {
     "duration": 0.023992,
     "end_time": "2021-01-28T13:32:44.596907",
     "exception": false,
     "start_time": "2021-01-28T13:32:44.572915",
     "status": "completed"
    },
    "tags": []
   },
   "outputs": [],
   "source": [
    "import numpy as np\n",
    "import pandas as pd"
   ]
  },
  {
   "cell_type": "code",
   "execution_count": null,
   "metadata": {
    "papermill": {
     "duration": 0.048547,
     "end_time": "2021-01-28T13:32:44.656369",
     "exception": false,
     "start_time": "2021-01-28T13:32:44.607822",
     "status": "completed"
    },
    "tags": []
   },
   "outputs": [],
   "source": [
    "tr = pd.read_csv('../data/train.csv')\n",
    "te = pd.read_csv('../data/test.csv')"
   ]
  },
  {
   "cell_type": "code",
   "execution_count": null,
   "metadata": {
    "papermill": {
     "duration": 0.052024,
     "end_time": "2021-01-28T13:32:44.718514",
     "exception": false,
     "start_time": "2021-01-28T13:32:44.666490",
     "status": "completed"
    },
    "tags": []
   },
   "outputs": [],
   "source": [
    "tr.head()"
   ]
  },
  {
   "cell_type": "code",
   "execution_count": null,
   "metadata": {
    "papermill": {
     "duration": 1.173757,
     "end_time": "2021-01-28T13:32:45.903217",
     "exception": false,
     "start_time": "2021-01-28T13:32:44.729460",
     "status": "completed"
    },
    "tags": []
   },
   "outputs": [],
   "source": [
    "fields = [\n",
    "    'Pclass',\n",
    "#     'Age',\n",
    "#     'Fare'\n",
    "]\n",
    "\n",
    "from sklearn.impute import SimpleImputer\n",
    "my_imputer = SimpleImputer()\n",
    "\n",
    "def get_input(dfx):\n",
    "    s = pd.get_dummies(dfx[['Sex']])\n",
    "    onehot = pd.concat([dfx[fields], s], axis=1)\n",
    "    return my_imputer.fit_transform(onehot)\n",
    "\n",
    "X = get_input(tr) "
   ]
  },
  {
   "cell_type": "code",
   "execution_count": null,
   "metadata": {
    "papermill": {
     "duration": 0.025127,
     "end_time": "2021-01-28T13:32:45.939342",
     "exception": false,
     "start_time": "2021-01-28T13:32:45.914215",
     "status": "completed"
    },
    "tags": []
   },
   "outputs": [],
   "source": [
    "y = tr[['Survived']]\n",
    "y.head()"
   ]
  },
  {
   "cell_type": "code",
   "execution_count": null,
   "metadata": {
    "papermill": {
     "duration": 0.021483,
     "end_time": "2021-01-28T13:32:45.972382",
     "exception": false,
     "start_time": "2021-01-28T13:32:45.950899",
     "status": "completed"
    },
    "tags": []
   },
   "outputs": [],
   "source": [
    "\n",
    "\n",
    "\n",
    "from sklearn.model_selection import train_test_split\n",
    "X_train, X_test, y_train, y_test = train_test_split(X, y, test_size=0.33, random_state=42)\n"
   ]
  },
  {
   "cell_type": "code",
   "execution_count": null,
   "metadata": {
    "papermill": {
     "duration": 0.355731,
     "end_time": "2021-01-28T13:32:46.339688",
     "exception": false,
     "start_time": "2021-01-28T13:32:45.983957",
     "status": "completed"
    },
    "tags": []
   },
   "outputs": [],
   "source": [
    "from sklearn.ensemble import RandomForestClassifier\n",
    "clf = RandomForestClassifier(max_depth=1, random_state=0)\n",
    "clf = clf.fit(X_train, y_train)\n"
   ]
  },
  {
   "cell_type": "markdown",
   "metadata": {
    "papermill": {
     "duration": 0.011678,
     "end_time": "2021-01-28T13:32:46.363784",
     "exception": false,
     "start_time": "2021-01-28T13:32:46.352106",
     "status": "completed"
    },
    "tags": []
   },
   "source": [
    "## Validate"
   ]
  },
  {
   "cell_type": "code",
   "execution_count": null,
   "metadata": {
    "papermill": {
     "duration": 0.037182,
     "end_time": "2021-01-28T13:32:46.412995",
     "exception": false,
     "start_time": "2021-01-28T13:32:46.375813",
     "status": "completed"
    },
    "tags": []
   },
   "outputs": [],
   "source": [
    "from sklearn.metrics import mean_absolute_error\n",
    "y_pred = clf.predict(X_test)\n",
    "1 - mean_absolute_error(y_test, y_pred)"
   ]
  },
  {
   "cell_type": "markdown",
   "metadata": {
    "papermill": {
     "duration": 0.013464,
     "end_time": "2021-01-28T13:32:46.440582",
     "exception": false,
     "start_time": "2021-01-28T13:32:46.427118",
     "status": "completed"
    },
    "tags": []
   },
   "source": [
    "## Create Final Model"
   ]
  },
  {
   "cell_type": "code",
   "execution_count": null,
   "metadata": {
    "papermill": {
     "duration": 0.219622,
     "end_time": "2021-01-28T13:32:46.673949",
     "exception": false,
     "start_time": "2021-01-28T13:32:46.454327",
     "status": "completed"
    },
    "tags": []
   },
   "outputs": [],
   "source": [
    "clf_final = RandomForestClassifier(max_depth=1, random_state=0)\n",
    "clf_final.fit(X, y)"
   ]
  },
  {
   "cell_type": "markdown",
   "metadata": {
    "papermill": {
     "duration": 0.013057,
     "end_time": "2021-01-28T13:32:46.700519",
     "exception": false,
     "start_time": "2021-01-28T13:32:46.687462",
     "status": "completed"
    },
    "tags": []
   },
   "source": [
    "## Create Output"
   ]
  },
  {
   "cell_type": "code",
   "execution_count": null,
   "metadata": {
    "papermill": {
     "duration": 0.045859,
     "end_time": "2021-01-28T13:32:46.761118",
     "exception": false,
     "start_time": "2021-01-28T13:32:46.715259",
     "status": "completed"
    },
    "tags": []
   },
   "outputs": [],
   "source": [
    "y_p = clf_final.predict(get_input(te))"
   ]
  },
  {
   "cell_type": "code",
   "execution_count": null,
   "metadata": {
    "papermill": {
     "duration": 0.021743,
     "end_time": "2021-01-28T13:32:46.796224",
     "exception": false,
     "start_time": "2021-01-28T13:32:46.774481",
     "status": "completed"
    },
    "tags": []
   },
   "outputs": [],
   "source": [
    "out = pd.DataFrame({ 'PassengerId': te['PassengerId'], 'Survived': y_p })"
   ]
  },
  {
   "cell_type": "code",
   "execution_count": null,
   "metadata": {
    "papermill": {
     "duration": 0.024883,
     "end_time": "2021-01-28T13:32:46.834789",
     "exception": false,
     "start_time": "2021-01-28T13:32:46.809906",
     "status": "completed"
    },
    "tags": []
   },
   "outputs": [],
   "source": [
    "out.to_csv('../output/suby.csv',index=False)"
   ]
  }
 ],
 "metadata": {
  "kernelspec": {
   "display_name": "Python 3",
   "language": "python",
   "name": "python3"
  },
  "language_info": {
   "codemirror_mode": {
    "name": "ipython",
    "version": 3
   },
   "file_extension": ".py",
   "mimetype": "text/x-python",
   "name": "python",
   "nbconvert_exporter": "python",
   "pygments_lexer": "ipython3",
   "version": "3.7.6-final"
  },
  "papermill": {
   "default_parameters": {},
   "duration": 9.253198,
   "end_time": "2021-01-28T13:32:47.560480",
   "environment_variables": {},
   "exception": null,
   "input_path": "__notebook__.ipynb",
   "output_path": "__notebook__.ipynb",
   "parameters": {},
   "start_time": "2021-01-28T13:32:38.307282",
   "version": "2.2.2"
  }
 },
 "nbformat": 4,
 "nbformat_minor": 4
}
