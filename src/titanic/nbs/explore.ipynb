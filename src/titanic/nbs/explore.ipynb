{
 "cells": [
  {
   "cell_type": "code",
   "execution_count": null,
   "metadata": {
    "_cell_guid": "b1076dfc-b9ad-4769-8c92-a6c4dae69d19",
    "_uuid": "8f2839f25d086af736a60e9eeb907d3b93b6e0e5",
    "papermill": {
     "duration": 0.023992,
     "end_time": "2021-01-28T13:32:44.596907",
     "exception": false,
     "start_time": "2021-01-28T13:32:44.572915",
     "status": "completed"
    },
    "tags": []
   },
   "outputs": [],
   "source": [
    "import numpy as np\n",
    "import pandas as pd"
   ]
  },
  {
   "cell_type": "code",
   "execution_count": null,
   "metadata": {
    "papermill": {
     "duration": 0.048547,
     "end_time": "2021-01-28T13:32:44.656369",
     "exception": false,
     "start_time": "2021-01-28T13:32:44.607822",
     "status": "completed"
    },
    "tags": []
   },
   "outputs": [],
   "source": [
    "tr = pd.read_csv('../../../data/train.csv')\n",
    "te = pd.read_csv('../../../data/test.csv')"
   ]
  },
  {
   "cell_type": "code",
   "execution_count": null,
   "metadata": {
    "papermill": {
     "duration": 0.052024,
     "end_time": "2021-01-28T13:32:44.718514",
     "exception": false,
     "start_time": "2021-01-28T13:32:44.666490",
     "status": "completed"
    },
    "tags": []
   },
   "outputs": [],
   "source": [
    "tr.head()"
   ]
  },
  {
   "cell_type": "code",
   "execution_count": null,
   "metadata": {},
   "outputs": [],
   "source": [
    "tr.describe()"
   ]
  }
 ],
 "metadata": {
  "kernelspec": {
   "display_name": "Python 3",
   "language": "python",
   "name": "python3"
  },
  "language_info": {
   "codemirror_mode": {
    "name": "ipython",
    "version": 3
   },
   "file_extension": ".py",
   "mimetype": "text/x-python",
   "name": "python",
   "nbconvert_exporter": "python",
   "pygments_lexer": "ipython3",
   "version": "3.7.6-final"
  },
  "papermill": {
   "default_parameters": {},
   "duration": 9.253198,
   "end_time": "2021-01-28T13:32:47.560480",
   "environment_variables": {},
   "exception": null,
   "input_path": "__notebook__.ipynb",
   "output_path": "__notebook__.ipynb",
   "parameters": {},
   "start_time": "2021-01-28T13:32:38.307282",
   "version": "2.2.2"
  }
 },
 "nbformat": 4,
 "nbformat_minor": 4
}
